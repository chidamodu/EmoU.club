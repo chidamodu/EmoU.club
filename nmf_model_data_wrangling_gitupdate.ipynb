{
 "cells": [
  {
   "cell_type": "code",
   "execution_count": 99,
   "metadata": {},
   "outputs": [
    {
     "data": {
      "text/html": [
       "<div>\n",
       "<style>\n",
       "    .dataframe thead tr:only-child th {\n",
       "        text-align: right;\n",
       "    }\n",
       "\n",
       "    .dataframe thead th {\n",
       "        text-align: left;\n",
       "    }\n",
       "\n",
       "    .dataframe tbody tr th {\n",
       "        vertical-align: top;\n",
       "    }\n",
       "</style>\n",
       "<table border=\"1\" class=\"dataframe\">\n",
       "  <thead>\n",
       "    <tr style=\"text-align: right;\">\n",
       "      <th></th>\n",
       "      <th>Events</th>\n",
       "      <th>Date</th>\n",
       "      <th>Description</th>\n",
       "      <th>City</th>\n",
       "    </tr>\n",
       "  </thead>\n",
       "  <tbody>\n",
       "    <tr>\n",
       "      <th>0</th>\n",
       "      <td>Kreta Ayer Wet Market</td>\n",
       "      <td>year_round</td>\n",
       "      <td>Singapore Located in Chinatown, both locals a...</td>\n",
       "      <td>Singapore</td>\n",
       "    </tr>\n",
       "    <tr>\n",
       "      <th>1</th>\n",
       "      <td>CHIJMES</td>\n",
       "      <td>year_round</td>\n",
       "      <td>A historical convent known for taking in bad ...</td>\n",
       "      <td>Singapore</td>\n",
       "    </tr>\n",
       "    <tr>\n",
       "      <th>2</th>\n",
       "      <td>St Joseph's Church</td>\n",
       "      <td>year_round</td>\n",
       "      <td>The first Catholic church in Singapore is a N...</td>\n",
       "      <td>Singapore</td>\n",
       "    </tr>\n",
       "    <tr>\n",
       "      <th>3</th>\n",
       "      <td>food heaven</td>\n",
       "      <td>year_round</td>\n",
       "      <td>great experience to live is enjoying local f...</td>\n",
       "      <td>Singapore</td>\n",
       "    </tr>\n",
       "    <tr>\n",
       "      <th>4</th>\n",
       "      <td>Marina Bay Sands</td>\n",
       "      <td>year_round</td>\n",
       "      <td>the Merlion park, Esplanade, the Flyer, the s...</td>\n",
       "      <td>Singapore</td>\n",
       "    </tr>\n",
       "  </tbody>\n",
       "</table>\n",
       "</div>"
      ],
      "text/plain": [
       "                   Events         Date  \\\n",
       "0  Kreta Ayer Wet Market    year_round   \n",
       "1                CHIJMES    year_round   \n",
       "2     St Joseph's Church    year_round   \n",
       "3             food heaven   year_round   \n",
       "4       Marina Bay Sands    year_round   \n",
       "\n",
       "                                         Description       City  \n",
       "0   Singapore Located in Chinatown, both locals a...  Singapore  \n",
       "1   A historical convent known for taking in bad ...  Singapore  \n",
       "2   The first Catholic church in Singapore is a N...  Singapore  \n",
       "3    great experience to live is enjoying local f...  Singapore  \n",
       "4   the Merlion park, Esplanade, the Flyer, the s...  Singapore  "
      ]
     },
     "execution_count": 99,
     "metadata": {},
     "output_type": "execute_result"
    }
   ],
   "source": [
    "#to load file in .csv format and to add 'city' column\n",
    "import pandas as pd\n",
    "df=pd.read_csv('/Users/chidam/Desktop/Singapore_after_editing.csv', encoding='latin', sep=\"\\t\", header=None)\n",
    "df['Events'], df['Date'], df['Description'] = df[0].str.split(';', 2).str\n",
    "del(df[0])\n",
    "df=df.dropna()\n",
    "df['City']='Singapore'\n",
    "df.head()\n"
   ]
  },
  {
   "cell_type": "code",
   "execution_count": 32,
   "metadata": {
    "collapsed": true
   },
   "outputs": [],
   "source": [
    "#to append dataframe to a csv file:\n",
    "with open('/Users/chidam/Desktop/training_data.csv', 'a') as f:\n",
    "    df.to_csv(f, index=False, header=False)"
   ]
  },
  {
   "cell_type": "code",
   "execution_count": 245,
   "metadata": {
    "scrolled": false
   },
   "outputs": [
    {
     "data": {
      "text/html": [
       "<div>\n",
       "<style>\n",
       "    .dataframe thead tr:only-child th {\n",
       "        text-align: right;\n",
       "    }\n",
       "\n",
       "    .dataframe thead th {\n",
       "        text-align: left;\n",
       "    }\n",
       "\n",
       "    .dataframe tbody tr th {\n",
       "        vertical-align: top;\n",
       "    }\n",
       "</style>\n",
       "<table border=\"1\" class=\"dataframe\">\n",
       "  <thead>\n",
       "    <tr style=\"text-align: right;\">\n",
       "      <th></th>\n",
       "      <th>Events</th>\n",
       "      <th>Date</th>\n",
       "      <th>Description</th>\n",
       "      <th>City</th>\n",
       "    </tr>\n",
       "  </thead>\n",
       "  <tbody>\n",
       "    <tr>\n",
       "      <th>0</th>\n",
       "      <td>Mevlevi Order of Sufi whirling dervishes</td>\n",
       "      <td>year-round</td>\n",
       "      <td>Go to a whirling dervish show the dervishes s...</td>\n",
       "      <td>Istanbul</td>\n",
       "    </tr>\n",
       "    <tr>\n",
       "      <th>1</th>\n",
       "      <td>Eat a kumpir</td>\n",
       "      <td>year-round</td>\n",
       "      <td>a kumpir is a loaded baked potato the server ...</td>\n",
       "      <td>Istanbul</td>\n",
       "    </tr>\n",
       "    <tr>\n",
       "      <th>2</th>\n",
       "      <td>Get Hamam experience</td>\n",
       "      <td>year-round</td>\n",
       "      <td>if you are ready to shed your inhibitions, th...</td>\n",
       "      <td>Istanbul</td>\n",
       "    </tr>\n",
       "    <tr>\n",
       "      <th>3</th>\n",
       "      <td>Ride the red street car</td>\n",
       "      <td>year-round</td>\n",
       "      <td>one way to see Istiklal Avenue without having...</td>\n",
       "      <td>Istanbul</td>\n",
       "    </tr>\n",
       "    <tr>\n",
       "      <th>4</th>\n",
       "      <td>Walk across Galata Bridge</td>\n",
       "      <td>year-round</td>\n",
       "      <td>you could very well ride the light rail acros...</td>\n",
       "      <td>Istanbul</td>\n",
       "    </tr>\n",
       "  </tbody>\n",
       "</table>\n",
       "</div>"
      ],
      "text/plain": [
       "                                     Events         Date  \\\n",
       "0  Mevlevi Order of Sufi whirling dervishes   year-round   \n",
       "1                              Eat a kumpir   year-round   \n",
       "2                      Get Hamam experience   year-round   \n",
       "3                   Ride the red street car   year-round   \n",
       "4                 Walk across Galata Bridge   year-round   \n",
       "\n",
       "                                         Description      City  \n",
       "0   Go to a whirling dervish show the dervishes s...  Istanbul  \n",
       "1   a kumpir is a loaded baked potato the server ...  Istanbul  \n",
       "2   if you are ready to shed your inhibitions, th...  Istanbul  \n",
       "3   one way to see Istiklal Avenue without having...  Istanbul  \n",
       "4   you could very well ride the light rail acros...  Istanbul  "
      ]
     },
     "execution_count": 245,
     "metadata": {},
     "output_type": "execute_result"
    }
   ],
   "source": [
    "df_train=pd.read_csv('/Users/chidam/Desktop/training_data.csv')\n",
    "df_train.head()\n"
   ]
  },
  {
   "cell_type": "code",
   "execution_count": 194,
   "metadata": {
    "collapsed": true
   },
   "outputs": [],
   "source": [
    "#trying topic modeling on training data_Set\n",
    "documents=df_train['Description']"
   ]
  },
  {
   "cell_type": "code",
   "execution_count": 195,
   "metadata": {},
   "outputs": [
    {
     "data": {
      "text/plain": [
       "248                                   Bar Crudo\n",
       "249                                Turtle Tower\n",
       "250                                      Souvla\n",
       "251                     Duc Loi/Mission Banh Mi\n",
       "252                           Saigon Sandwiches\n",
       "253                        El Gallo Giro Truck \n",
       "254                   Chinese New Years Parade\n",
       "255                     Cherry Blossom Festival\n",
       "256                                Pride Parade\n",
       "257                         Alice in Winterland\n",
       "258                      Outside Lands Festival\n",
       "259                          Folsom Street Fair\n",
       "260                          Castro Street Fair\n",
       "261                           Light Up the City\n",
       "262                               SF Sketchfest\n",
       "263                              Lunar New Year\n",
       "264                                SF IndieFest\n",
       "265                       Winter Music Festival\n",
       "266                     St Patricks Day Parade\n",
       "267                     Cherry Blossom Festival\n",
       "268                               Cinco de Mayo\n",
       "269    AIDS Candlelight Memorial  March & Vigil\n",
       "270                             Bay to Breakers\n",
       "271                        Stern Grove Festival\n",
       "272                  Haight Ashbury Street Fair\n",
       "273                 San Francisco Jazz Festival\n",
       "274                Annual World Naked Bike Ride\n",
       "275                             Summer Solstice\n",
       "276          Fourth of July Waterfront Festival\n",
       "277               Fillmore Street Jazz Festival\n",
       "                         ...                   \n",
       "286                                    SantaCon\n",
       "287                              New Years Eve\n",
       "288                      How Weird Street Faire\n",
       "289           Asian Heritage Street Celebration\n",
       "290       San Francisco's Union Street Festival\n",
       "291                      Carnaval San Francisco\n",
       "292                              SF PRIDE EVENT\n",
       "293                        North Beach Festival\n",
       "294                  The Fillmore Jazz Festival\n",
       "295                  The Nihonmachi Street Fair\n",
       "296                                   Jerry Day\n",
       "297          Hardly Strictly Bluegrass Festival\n",
       "298                    Fleet Week San Francisco\n",
       "299                            Taste of Potrero\n",
       "300                            SPRING WINE POUR\n",
       "301                                SF Porchfest\n",
       "302                                    Uncorked\n",
       "303                                  BUBBLYFEST\n",
       "304                    PINOT DAYS SAN FRANCISCO\n",
       "305                                   COCHON555\n",
       "306         RHONE RANGERS SAN FRANCISCO TASTING\n",
       "307                         SOY & TOFU FESTIVAL\n",
       "308                  SF BEER AND MUSIC FESTIVAL\n",
       "309                    SAN FRANCISCO OYSTERFEST\n",
       "310                       OAKLAND WINE FESTIVAL\n",
       "311                POLK STREET SUMMER WINE WALK\n",
       "312         THE 7TH ANNUAL NOE VALLEY WINE WALK\n",
       "313                                EAT DRINK SF\n",
       "314                                J-Pop Summit\n",
       "315              GHIRARDELLI CHOCOLATE FESTIVAL\n",
       "Name: Events, Length: 68, dtype: object"
      ]
     },
     "execution_count": 195,
     "metadata": {},
     "output_type": "execute_result"
    }
   ],
   "source": [
    "#show me the unique events you have for a city: pick any city\n",
    "result_favorite=df_train.loc[df_train['City'] == 'San Francisco', 'Events']\n",
    "result_favorite"
   ]
  },
  {
   "cell_type": "code",
   "execution_count": 268,
   "metadata": {
    "collapsed": true
   },
   "outputs": [],
   "source": [
    "# NMF is able to use tf-idf\n",
    "from sklearn.feature_extraction.text import TfidfVectorizer, CountVectorizer\n",
    "from sklearn.decomposition import NMF, LatentDirichletAllocation\n",
    "import numpy as np\n",
    "import random \n",
    "random.seed(13)\n",
    "\n",
    "tfidf_vectorizer = TfidfVectorizer(max_df=0.85, max_features=45000, min_df=2, use_idf=True, stop_words='english')\n",
    "tfidf = tfidf_vectorizer.fit_transform(documents)    \n",
    "tfidf_feature_names = tfidf_vectorizer.get_feature_names()\n",
    "        "
   ]
  },
  {
   "cell_type": "code",
   "execution_count": 269,
   "metadata": {
    "scrolled": true
   },
   "outputs": [
    {
     "name": "stdout",
     "output_type": "stream",
     "text": [
      "Topic 0:\n",
      "bar just restaurant like coffee seoul cafe little great good\n",
      "Topic 1:\n",
      "festival annual film multicultural international performances dance rock jazz held\n",
      "Topic 2:\n",
      "singapore marina multiple event bay celebrated venues chinese celebration year\n",
      "Topic 3:\n",
      "market street night food taipei local stalls seafood selling district\n",
      "Topic 4:\n",
      "music electronic free classical world live culture dance pop films\n",
      "Topic 5:\n",
      "art museum street theatre film galleries arts gallery artists collection\n",
      "Topic 6:\n",
      "city dubai year new world biggest parade events day held\n",
      "Topic 7:\n",
      "tel aviv day dance jazz place performances jewish israel avivs\n",
      "Topic 8:\n",
      "park garden island beautiful parks central gardens escape secret greenery\n",
      "Topic 9:\n",
      "sydney harbour tower world sea tallest eye feet building skywalk\n"
     ]
    }
   ],
   "source": [
    "#fitting tfidf to nmf model and printing the associated words with every cluster/topic\n",
    "nmf = NMF(n_components=10, random_state=1, alpha=.1).fit(tfidf)\n",
    "def display_topics(model, feature_names, no_top_words):\n",
    "    for topic_idx, topic in enumerate(nmf.components_):\n",
    "        print (\"Topic %d:\" % (topic_idx))\n",
    "        \n",
    "        print (\" \".join([tfidf_feature_names[i] for i in topic.argsort()[:-no_top_words - 1:-1]]))\n",
    "        #topic.argsort()[:-no_top_words - 1:-1] is to display the top 10 words for each topic - i guess it's like from -9 to -1 like reverse\n",
    "        \n",
    "\n",
    "display_topics(nmf, tfidf_feature_names, no_top_words=10)\n"
   ]
  },
  {
   "cell_type": "code",
   "execution_count": 270,
   "metadata": {},
   "outputs": [
    {
     "data": {
      "text/plain": [
       "29.148171482548552"
      ]
     },
     "execution_count": 270,
     "metadata": {},
     "output_type": "execute_result"
    }
   ],
   "source": [
    "nmf.reconstruction_err_ "
   ]
  },
  {
   "cell_type": "code",
   "execution_count": 271,
   "metadata": {
    "collapsed": true
   },
   "outputs": [],
   "source": [
    "#get the top 5 popular events in every cluster\n",
    "nmf_embedding = nmf.transform(tfidf)\n",
    "nmf_embedding = (nmf_embedding - nmf_embedding.mean(axis=0))/nmf_embedding.std(axis=0)\n",
    "top_idx = np.argsort(nmf_embedding,axis=0)[-5:]"
   ]
  },
  {
   "cell_type": "code",
   "execution_count": 285,
   "metadata": {},
   "outputs": [
    {
     "name": "stdout",
     "output_type": "stream",
     "text": [
      "\n",
      "Topic 0:\n",
      "Event: café-hopping at Garosu-gil, City:Seoul\n",
      "Event:The Library, City:Singapore\n",
      "Event:Eat Tafelspitz at Plachuttas, City:Vienna\n",
      "Event:Foodhallen, City:Amsterdam\n",
      "Event:Walking tours, City:Munich\n",
      "\n",
      "Topic 1:\n",
      "Event:Haarlem Jazz, City:Amsterdam\n",
      "Event:Danube Carnival, City:Budapest\n",
      "Event:Viennale, City:Vienna\n",
      "Event:Voice Mania, City:Vienna\n",
      "Event:Wean Hean, City:Vienna\n",
      "\n",
      "Topic 2:\n",
      "Event:Singapore Food , City:Singapore\n",
      "Event:River Hongbao, City:Singapore\n",
      "Event:Hari Raya Haji, City:Singapore\n",
      "Event:Thaipusam, City:Singapore\n",
      "Event:Vesak Day, City:Singapore\n",
      "\n",
      "Topic 3:\n",
      "Event:Lehua Night Market, City:Taipei\n",
      "Event:Tonghua Night Market, City:Taipei\n",
      "Event:Ningxia Night Market at, City:Taipei\n",
      "Event:Shilin Night Market, City:Taipei\n",
      "Event:Raohe Street Night Market, City:Taipei\n",
      "\n",
      "Topic 4:\n",
      "Event:Zamárdi, City:Budapest\n",
      "Event:Africa Days Vienna, City:Vienna\n",
      "Event:Electric Spring, City:Vienna\n",
      "Event:Sziget Festival, City:Budapest\n",
      "Event:Jewish Cultural Festival, City:Budapest\n",
      "\n",
      "Topic 5:\n",
      "Event:Trick Eye Museum , City:Seoul\n",
      "Event:Hot Art Wet City, City:Vancouver\n",
      "Event:Cool Art in Hot Tel Aviv, City:Tel Aviv\n",
      "Event:The Taipei Fringe Festival, City:Taipei\n",
      "Event:Aliwai Street , City:Singapore\n",
      "\n",
      "Topic 6:\n",
      "Event:Meydan, City:Dubai\n",
      "Event:Life Ball, City:Vienna\n",
      "Event:Lunar New Year, City:San Francisco\n",
      "Event:Light Up the City, City:San Francisco\n",
      "Event:RedFest, City:Dubai\n",
      "\n",
      "Topic 7:\n",
      "Event:Listen to Live Music, City:Tel Aviv\n",
      "Event:Summer Annual events, City:Tel Aviv\n",
      "Event:Rosh Hashana, City:Tel Aviv\n",
      "Event:Lag BaOmer, City:Tel Aviv\n",
      "Event:Beach festivals, City:Tel Aviv\n",
      "\n",
      "Topic 8:\n",
      "Event:Everett Crowley Park, City:Vancouver\n",
      "Event:Shinjuku Gyoen National Garden, City:Tokyo\n",
      "Event:Royal Botanic Gardens, City:Sydney\n",
      "Event:SummerStage, City:New York\n",
      "Event:NY Philharmonic Concerts, City:New York\n",
      "\n",
      "Topic 9:\n",
      "Event:SYDNEY HARBOUR REGATTA, City:Sydney\n",
      "Event:Sydney Opera House, City:Sydney\n",
      "Event:Sydney Opera House, City:Sydney\n",
      "Event:Sydney Tower Eye, City:Sydney\n",
      "Event:Doing the SKYWALK , City:Sydney\n"
     ]
    }
   ],
   "source": [
    "#associating the clusters with event type and city name\n",
    "def event_city(g):\n",
    "    c=0\n",
    "    for idxs in g.T:\n",
    "        print(\"\\nTopic {}:\".format(c,))\n",
    "            print(\"Event:{}, City:{}\".format(df_train.iloc[idx]['Events'], df_train.iloc[idx]['City']))\n",
    "        c += 1\n",
    "\n",
    "event_city(top_idx)        \n"
   ]
  }
 ],
 "metadata": {
  "kernelspec": {
   "display_name": "Python [conda root]",
   "language": "python",
   "name": "conda-root-py"
  },
  "language_info": {
   "codemirror_mode": {
    "name": "ipython",
    "version": 3
   },
   "file_extension": ".py",
   "mimetype": "text/x-python",
   "name": "python",
   "nbconvert_exporter": "python",
   "pygments_lexer": "ipython3",
   "version": "3.5.4"
  }
 },
 "nbformat": 4,
 "nbformat_minor": 2
}
